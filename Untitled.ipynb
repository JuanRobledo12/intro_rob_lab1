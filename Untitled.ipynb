{
 "cells": [
  {
   "cell_type": "code",
   "execution_count": 22,
   "metadata": {},
   "outputs": [],
   "source": [
    "import numpy as np\n",
    "import cv2"
   ]
  },
  {
   "cell_type": "code",
   "execution_count": 23,
   "metadata": {},
   "outputs": [],
   "source": [
    "cap = cv2.VideoCapture(0)\n",
    "prevCircles = None\n",
    "dist = lambda x1,y1,x2,y2: (x1-x2)**2+(y1-y2)**2"
   ]
  },
  {
   "cell_type": "code",
   "execution_count": 24,
   "metadata": {},
   "outputs": [],
   "source": [
    "\n",
    "while(True):\n",
    "    # Capture frame-by-frame\n",
    "    ret, frame = cap.read()\n",
    "    if not ret: break\n",
    "\n",
    "    # Our operations on the frame come here\n",
    "    to_gray = cv2.cvtColor(frame, cv2.COLOR_BGR2GRAY)\n",
    "    \n",
    "    #Blur\n",
    "    blur_img = cv2.GaussianBlur(to_gray, (17, 17), 0) #Larger integers\n",
    "    \n",
    "    #Circles\n",
    "    \n",
    "    circles = cv2.HoughCircles(blur_img, cv2.HOUGH_GRADIENT, 1.2, 100, param1=100, param2=30, minRadius=75, maxRadius=400) #Experiment with the 1.2 value\n",
    "    if circles is None:\n",
    "        circles = np.uint16(np.around(circles))\n",
    "        chosen = None\n",
    "        for i in circles [0, :]:\n",
    "            if chosen is None: chosen = 1\n",
    "            if prevCircle is not None:\n",
    "                if dist(chosen[0], chosen[1], prevCircle[0], prevCircle[1]) <= dist(i[0], i[1], prevCircle[0], prevCircle[1]):\n",
    "                        chosen = i\n",
    "        cv2.circle(frame, (chosen[0], chosen[1]), 1, (0,100,100), 3)\n",
    "        cv2.circle(frame, (chosen[0], chosen[1]), chosen[2], (255,0,255),3)\n",
    "        prevCircle = chosen\n",
    "    # Display the resulting frame \n",
    "    cv2.imshow('circles', frame)\n",
    "    #If we click q we break out the frame\n",
    "    if cv2.waitKey(1) & 0xFF == ord('q'):\n",
    "        break\n",
    "\n",
    "# When everything done, release the capture\n",
    "cap.release()\n",
    "cv2.destroyAllWindows()"
   ]
  },
  {
   "cell_type": "code",
   "execution_count": null,
   "metadata": {},
   "outputs": [],
   "source": []
  }
 ],
 "metadata": {
  "kernelspec": {
   "display_name": "Python 3",
   "language": "python",
   "name": "python3"
  },
  "language_info": {
   "codemirror_mode": {
    "name": "ipython",
    "version": 3
   },
   "file_extension": ".py",
   "mimetype": "text/x-python",
   "name": "python",
   "nbconvert_exporter": "python",
   "pygments_lexer": "ipython3",
   "version": "3.8.10"
  }
 },
 "nbformat": 4,
 "nbformat_minor": 4
}
